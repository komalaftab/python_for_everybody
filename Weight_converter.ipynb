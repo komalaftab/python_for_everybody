{
 "cells": [
  {
   "cell_type": "markdown",
   "metadata": {},
   "source": [
    "## Project::Weight Converter"
   ]
  },
  {
   "cell_type": "code",
   "execution_count": 5,
   "metadata": {},
   "outputs": [
    {
     "name": "stdout",
     "output_type": "stream",
     "text": [
      "Weight:120\n",
      "(L)bs or (K)g:l\n",
      "You are 266.6666666666667kilos.\n"
     ]
    }
   ],
   "source": [
    "weight = int(input(\"Weight:\"))\n",
    "unit  = input(\"(L)bs or (K)g:\")\n",
    "if unit.upper()== \"L\":\n",
    "    Converted = weight * 0.45\n",
    "    print(f\"You are {converted}kilos.\")\n",
    "else:\n",
    "    converted =weight/0.45\n",
    "    print(f\"You are {converted}lbs.\")\n",
    "    \n"
   ]
  },
  {
   "cell_type": "code",
   "execution_count": null,
   "metadata": {},
   "outputs": [],
   "source": []
  }
 ],
 "metadata": {
  "kernelspec": {
   "display_name": "Python 3",
   "language": "python",
   "name": "python3"
  },
  "language_info": {
   "codemirror_mode": {
    "name": "ipython",
    "version": 3
   },
   "file_extension": ".py",
   "mimetype": "text/x-python",
   "name": "python",
   "nbconvert_exporter": "python",
   "pygments_lexer": "ipython3",
   "version": "3.7.3"
  }
 },
 "nbformat": 4,
 "nbformat_minor": 2
}
